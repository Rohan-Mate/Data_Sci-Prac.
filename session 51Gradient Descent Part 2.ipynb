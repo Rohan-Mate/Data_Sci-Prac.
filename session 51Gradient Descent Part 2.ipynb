{
 "cells": [
  {
   "cell_type": "markdown",
   "id": "d0e94cc9-0ddd-4cb2-bc46-1f4bbb842a28",
   "metadata": {},
   "source": [
    "make class"
   ]
  },
  {
   "cell_type": "code",
   "execution_count": 21,
   "id": "d9822889-b6d5-4dfc-9324-41c3de98b446",
   "metadata": {},
   "outputs": [],
   "source": [
    "from sklearn.datasets import make_regression \n",
    "import matplotlib.pyplot as plt \n",
    "import numpy as np "
   ]
  },
  {
   "cell_type": "code",
   "execution_count": 27,
   "id": "7d0a46d2-1b19-4ec1-b195-aa693b367f7a",
   "metadata": {},
   "outputs": [],
   "source": [
    "X,y = make_regression(n_samples=100,n_features=1,n_informative=1,n_targets=1,noise=20)"
   ]
  },
  {
   "cell_type": "code",
   "execution_count": 28,
   "id": "3a60ff36-7ee9-45b8-8f98-2d8d64703a5e",
   "metadata": {},
   "outputs": [
    {
     "data": {
      "text/plain": [
       "<matplotlib.collections.PathCollection at 0x7fe480176620>"
      ]
     },
     "execution_count": 28,
     "metadata": {},
     "output_type": "execute_result"
    },
    {
     "data": {
      "image/png": "[encoded data removed]",
      "text/plain": [
       "<Figure size 640x480 with 1 Axes>"
      ]
     },
     "metadata": {},
     "output_type": "display_data"
    }
   ],
   "source": [
    "plt.scatter(X,y)"
   ]
  },
  {
   "cell_type": "code",
   "execution_count": 29,
   "id": "7f28ee94-5f50-4c64-a139-1e76def5d5be",
   "metadata": {},
   "outputs": [],
   "source": [
    "from sklearn.linear_model import LinearRegression\n",
    "lr=LinearRegression()"
   ]
  },
  {
   "cell_type": "code",
   "execution_count": 30,
   "id": "338accc1-dacd-4540-b455-ab902dc68f7d",
   "metadata": {},
   "outputs": [
    {
     "data": {
      "text/html": [
       "<style>#sk-container-id-3 {color: black;background-color: white;}#sk-container-id-3 pre{padding: 0;}#sk-container-id-3 div.sk-toggleable {background-color: white;}#sk-container-id-3 label.sk-toggleable__label {cursor: pointer;display: block;width: 100%;margin-bottom: 0;padding: 0.3em;box-sizing: border-box;text-align: center;}#sk-container-id-3 label.sk-toggleable__label-arrow:before {content: \"▸\";float: left;margin-right: 0.25em;color: #696969;}#sk-container-id-3 label.sk-toggleable__label-arrow:hover:before {color: black;}#sk-container-id-3 div.sk-estimator:hover label.sk-toggleable__label-arrow:before {color: black;}#sk-container-id-3 div.sk-toggleable__content {max-height: 0;max-width: 0;overflow: hidden;text-align: left;background-color: #f0f8ff;}#sk-container-id-3 div.sk-toggleable__content pre {margin: 0.2em;color: black;border-radius: 0.25em;background-color: #f0f8ff;}#sk-container-id-3 input.sk-toggleable__control:checked~div.sk-toggleable__content {max-height: 200px;max-width: 100%;overflow: auto;}#sk-container-id-3 input.sk-toggleable__control:checked~label.sk-toggleable__label-arrow:before {content: \"▾\";}#sk-container-id-3 div.sk-estimator input.sk-toggleable__control:checked~label.sk-toggleable__label {background-color: #d4ebff;}#sk-container-id-3 div.sk-label input.sk-toggleable__control:checked~label.sk-toggleable__label {background-color: #d4ebff;}#sk-container-id-3 input.sk-hidden--visually {border: 0;clip: rect(1px 1px 1px 1px);clip: rect(1px, 1px, 1px, 1px);height: 1px;margin: -1px;overflow: hidden;padding: 0;position: absolute;width: 1px;}#sk-container-id-3 div.sk-estimator {font-family: monospace;background-color: #f0f8ff;border: 1px dotted black;border-radius: 0.25em;box-sizing: border-box;margin-bottom: 0.5em;}#sk-container-id-3 div.sk-estimator:hover {background-color: #d4ebff;}#sk-container-id-3 div.sk-parallel-item::after {content: \"\";width: 100%;border-bottom: 1px solid gray;flex-grow: 1;}#sk-container-id-3 div.sk-label:hover label.sk-toggleable__label {background-color: #d4ebff;}#sk-container-id-3 div.sk-serial::before {content: \"\";position: absolute;border-left: 1px solid gray;box-sizing: border-box;top: 0;bottom: 0;left: 50%;z-index: 0;}#sk-container-id-3 div.sk-serial {display: flex;flex-direction: column;align-items: center;background-color: white;padding-right: 0.2em;padding-left: 0.2em;position: relative;}#sk-container-id-3 div.sk-item {position: relative;z-index: 1;}#sk-container-id-3 div.sk-parallel {display: flex;align-items: stretch;justify-content: center;background-color: white;position: relative;}#sk-container-id-3 div.sk-item::before, #sk-container-id-3 div.sk-parallel-item::before {content: \"\";position: absolute;border-left: 1px solid gray;box-sizing: border-box;top: 0;bottom: 0;left: 50%;z-index: -1;}#sk-container-id-3 div.sk-parallel-item {display: flex;flex-direction: column;z-index: 1;position: relative;background-color: white;}#sk-container-id-3 div.sk-parallel-item:first-child::after {align-self: flex-end;width: 50%;}#sk-container-id-3 div.sk-parallel-item:last-child::after {align-self: flex-start;width: 50%;}#sk-container-id-3 div.sk-parallel-item:only-child::after {width: 0;}#sk-container-id-3 div.sk-dashed-wrapped {border: 1px dashed gray;margin: 0 0.4em 0.5em 0.4em;box-sizing: border-box;padding-bottom: 0.4em;background-color: white;}#sk-container-id-3 div.sk-label label {font-family: monospace;font-weight: bold;display: inline-block;line-height: 1.2em;}#sk-container-id-3 div.sk-label-container {text-align: center;}#sk-container-id-3 div.sk-container {/* jupyter's `normalize.less` sets `[hidden] { display: none; }` but bootstrap.min.css set `[hidden] { display: none !important; }` so we also need the `!important` here to be able to override the default hidden behavior on the sphinx rendered scikit-learn.org. See: https://github.com/scikit-learn/scikit-learn/issues/21755 */display: inline-block !important;position: relative;}#sk-container-id-3 div.sk-text-repr-fallback {display: none;}</style><div id=\"sk-container-id-3\" class=\"sk-top-container\"><div class=\"sk-text-repr-fallback\"><pre>LinearRegression()</pre><b>In a Jupyter environment, please rerun this cell to show the HTML representation or trust the notebook. <br />On GitHub, the HTML representation is unable to render, please try loading this page with nbviewer.org.</b></div><div class=\"sk-container\" hidden><div class=\"sk-item\"><div class=\"sk-estimator sk-toggleable\"><input class=\"sk-toggleable__control sk-hidden--visually\" id=\"sk-estimator-id-3\" type=\"checkbox\" checked><label for=\"sk-estimator-id-3\" class=\"sk-toggleable__label sk-toggleable__label-arrow\">LinearRegression</label><div class=\"sk-toggleable__content\"><pre>LinearRegression()</pre></div></div></div></div></div>"
      ],
      "text/plain": [
       "LinearRegression()"
      ]
     },
     "execution_count": 30,
     "metadata": {},
     "output_type": "execute_result"
    }
   ],
   "source": [
    "lr.fit(X,y)"
   ]
  },
  {
   "cell_type": "code",
   "execution_count": 31,
   "id": "39964761-1a0a-46e9-a052-d485f89d8868",
   "metadata": {},
   "outputs": [
    {
     "name": "stdout",
     "output_type": "stream",
     "text": [
      "[69.5339863]\n",
      "3.0852176821639192\n"
     ]
    }
   ],
   "source": [
    "print(lr.coef_)\n",
    "print(lr.intercept_)"
   ]
  },
  {
   "cell_type": "code",
   "execution_count": 34,
   "id": "377be85b-63f2-4df8-96f3-6f29536823fc",
   "metadata": {},
   "outputs": [],
   "source": [
    "m = 69.53"
   ]
  },
  {
   "cell_type": "code",
   "execution_count": 43,
   "id": "b3e24694-ae83-4ba5-8b4f-9961c46c88c8",
   "metadata": {},
   "outputs": [],
   "source": [
    "class GDRegressor:\n",
    "    \n",
    "    def __init__(self,learning_rate,epochs):\n",
    "        self.m = 69.53\n",
    "        self.b = -120\n",
    "        self.lr = learning_rate\n",
    "        self.epochs = epochs\n",
    "        \n",
    "    def fit(self,X,y):\n",
    "        # Calculate the b using GD\n",
    "        for i in range (self.epochs):\n",
    "            loss_slope = -2 * np.sum(y-self.m*X.ravel()-self.b)\n",
    "            self.b = self.b - (self.lr * loss_slope)\n",
    "            print(loss_slope,self.b)\n",
    "        print(self.b)    "
   ]
  },
  {
   "cell_type": "code",
   "execution_count": 48,
   "id": "ea004e7e-4142-4790-9924-a982ab07fc98",
   "metadata": {},
   "outputs": [],
   "source": [
    "# gd = GDRegressor(0.01,10)\n",
    "\n",
    "# yaha par hamara learning rate kam hone ki wajah se hamare slope ki value jump krr rahi hain\n",
    "# isliye hame ab learning rate ki value decrease karni hogi "
   ]
  },
  {
   "cell_type": "code",
   "execution_count": 45,
   "id": "92161e59-fba2-4a98-abb6-7be5bdaeab24",
   "metadata": {},
   "outputs": [
    {
     "name": "stdout",
     "output_type": "stream",
     "text": [
      "-24617.062068954026 126.17062068954027\n",
      "24617.062068954023 -119.99999999999997\n",
      "-24617.062068954026 126.1706206895403\n",
      "24617.06206895403 -120.0\n",
      "-24617.062068954026 126.17062068954027\n",
      "24617.062068954023 -119.99999999999997\n",
      "-24617.062068954026 126.1706206895403\n",
      "24617.06206895403 -120.0\n",
      "-24617.062068954026 126.17062068954027\n",
      "24617.062068954023 -119.99999999999997\n",
      "-119.99999999999997\n"
     ]
    }
   ],
   "source": [
    "# gd.fit(X,y)"
   ]
  },
  {
   "cell_type": "code",
   "execution_count": 46,
   "id": "c6008157-c591-44ee-aad6-ef3a050a4f20",
   "metadata": {},
   "outputs": [],
   "source": [
    "gd = GDRegressor(0.001,50)"
   ]
  },
  {
   "cell_type": "code",
   "execution_count": 47,
   "id": "aacfe370-b5b3-467e-ac86-01bccf6b0141",
   "metadata": {},
   "outputs": [
    {
     "name": "stdout",
     "output_type": "stream",
     "text": [
      "-24617.062068954026 -95.38293793104597\n",
      "-19693.649655163223 -75.68928827588275\n",
      "-15754.919724130581 -59.934368551752165\n",
      "-12603.935779304464 -47.3304327724477\n",
      "-10083.148623443569 -37.24728414900413\n",
      "-8066.518898754855 -29.180765250249273\n",
      "-6453.215119003884 -22.727550131245387\n",
      "-5162.572095203107 -17.56497803604228\n",
      "-4130.057676162485 -13.434920359879795\n",
      "-3304.046140929989 -10.130874218949806\n",
      "-2643.2369127439906 -7.487637306205816\n",
      "-2114.5895301951928 -5.373047776010623\n",
      "-1691.6716241561544 -3.681376151854468\n",
      "-1353.3372993249232 -2.328038852529545\n",
      "-1082.6698394599387 -1.2453690130696062\n",
      "-866.1358715679507 -0.37923314150165544\n",
      "-692.9086972543607 0.31367555575270534\n",
      "-554.3269578034885 0.8680025135561938\n",
      "-443.4615662427908 1.3114640797989847\n",
      "-354.7692529942328 1.6662333327932175\n",
      "-283.8154023953861 1.9500487351886036\n",
      "-227.05232191630907 2.1771010571049128\n",
      "-181.64185753304707 2.35874291463796\n",
      "-145.3134860264377 2.5040564006643975\n",
      "-116.25078882115017 2.6203071894855476\n",
      "-93.00063105692016 2.7133078205424677\n",
      "-74.40050484553595 2.7877083253880035\n",
      "-59.52040387642896 2.8472287292644323\n",
      "-47.616323101143124 2.8948450523655755\n",
      "-38.093058480914536 2.9329381108464903\n",
      "-30.47444678473154 2.9634125576312216\n",
      "-24.379557427785215 2.987792115059007\n",
      "-19.50364594222812 3.007295761001235\n",
      "-15.602916753782708 3.0228986777550175\n",
      "-12.482333403026118 3.0353810111580435\n",
      "-9.985866722420937 3.0453668778804643\n",
      "-7.988693377936599 3.053355571258401\n",
      "-6.390954702349475 3.05974652596075\n",
      "-5.112763761879549 3.0648592897226297\n",
      "-4.090211009503591 3.0689495007321335\n",
      "-3.2721688076029096 3.0722216695397364\n",
      "-2.6177350460823305 3.074839404585819\n",
      "-2.0941880368657877 3.0769335926226846\n",
      "-1.6753504294928945 3.0786089430521777\n",
      "-1.3402803435941735 3.0799492233957717\n",
      "-1.0722242748751256 3.081021447670647\n",
      "-0.857779419900055 3.081879227090547\n",
      "-0.6862235359202629 3.0825654506264675\n",
      "-0.5489788287361392 3.0831144294552035\n",
      "-0.43918306298876075 3.0835536125181924\n",
      "3.0835536125181924\n"
     ]
    }
   ],
   "source": [
    "gd.fit(X,y)"
   ]
  },
  {
   "cell_type": "code",
   "execution_count": null,
   "id": "fc9b9bb0-4b7e-4b74-b45d-0dd10a91d275",
   "metadata": {},
   "outputs": [],
   "source": []
  }
 ],
 "metadata": {
  "kernelspec": {
   "display_name": "Python 3 (ipykernel)",
   "language": "python",
   "name": "python3"
  },
  "language_info": {
   "codemirror_mode": {
    "name": "ipython",
    "version": 3
   },
   "file_extension": ".py",
   "mimetype": "text/x-python",
   "name": "python",
   "nbconvert_exporter": "python",
   "pygments_lexer": "ipython3",
   "version": "3.10.8"
  }
 },
 "nbformat": 4,
 "nbformat_minor": 5
}
