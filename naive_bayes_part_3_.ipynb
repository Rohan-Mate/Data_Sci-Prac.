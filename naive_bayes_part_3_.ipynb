{
  "nbformat": 4,
  "nbformat_minor": 0,
  "metadata": {
    "colab": {
      "provenance": []
    },
    "kernelspec": {
      "name": "python3",
      "display_name": "Python 3"
    },
    "language_info": {
      "name": "python"
    }
  },
  "cells": [
    {
      "cell_type": "code",
      "execution_count": 5,
      "metadata": {
        "colab": {
          "base_uri": "https://localhost:8080/"
        },
        "id": "CC7ak15nGZUe",
        "outputId": "a8325d77-d352-4603-e400-6a71458567fb"
      },
      "outputs": [
        {
          "output_type": "stream",
          "name": "stdout",
          "text": [
            "Accuracy: 0.8023101433882103\n"
          ]
        }
      ],
      "source": [
        "from sklearn.datasets import fetch_20newsgroups\n",
        "from sklearn.feature_extraction.text import CountVectorizer\n",
        "from sklearn.naive_bayes import MultinomialNB\n",
        "from sklearn import metrics\n",
        "import numpy as np\n",
        "\n",
        "# load the training and test data\n",
        "newsgroups_train = fetch_20newsgroups(subset='train')\n",
        "newsgroups_test = fetch_20newsgroups(subset='test')\n",
        "\n",
        "# we use countervectorizer for text to numerical conversation\n",
        "vectorizer = CountVectorizer(stop_words='english')\n",
        "\n",
        "# Initialize the multinomial naive bayes classifier\n",
        "clf = MultinomialNB()\n",
        "\n",
        "# Batch Size\n",
        "batch_size = 100\n",
        "\n",
        "# fit the countervector to the entire vocabulary\n",
        "vectorizer.fit(newsgroups_train.data)\n",
        "\n",
        "# Train the model using small batches of data\n",
        "for i in range(0,len(newsgroups_train.data),batch_size):\n",
        "  texts = newsgroups_train.data[i:i+batch_size]\n",
        "  targets = newsgroups_train.target[i:i+batch_size]\n",
        "  X_train = vectorizer.transform(texts)\n",
        "  if i == 0:\n",
        "    # for the first batch we need to provide the list of all classes\n",
        "    clf.partial_fit(X_train,targets,classes=np.unique(newsgroups_train.target))\n",
        "  else:\n",
        "    clf.partial_fit(X_train,targets)\n",
        "\n",
        "# Evaluates the model on the test data\n",
        "X_test = vectorizer.transform(newsgroups_test.data)\n",
        "predicted = clf.predict(X_test)\n",
        "print(\"Accuracy:\",metrics.accuracy_score(newsgroups_test.target,predicted))"
      ]
    },
    {
      "cell_type": "code",
      "source": [],
      "metadata": {
        "id": "0sLD5Q43MylN"
      },
      "execution_count": null,
      "outputs": []
    }
  ]
}