{
  "nbformat": 4,
  "nbformat_minor": 0,
  "metadata": {
    "colab": {
      "provenance": []
    },
    "kernelspec": {
      "name": "python3",
      "display_name": "Python 3"
    },
    "language_info": {
      "name": "python"
    }
  },
  "cells": [
    {
      "cell_type": "markdown",
      "source": [
        "Function of normal distribution"
      ],
      "metadata": {
        "id": "YkuJ4y-2_8_n"
      }
    },
    {
      "cell_type": "code",
      "execution_count": 1,
      "metadata": {
        "id": "MXe4oeSO_7Qx"
      },
      "outputs": [],
      "source": [
        "import math\n",
        "\n",
        "def normal_distribution_pdf(x,mean,std_dev):\n",
        "  # claculate the normal distribution PDF\n",
        "  exponent = -((x-mean)**2) / (2*(std_dev **2))\n",
        "  return (1/ (std_dev * math.sqrt(2* math.pi))) * math.exp(exponent)"
      ]
    },
    {
      "cell_type": "code",
      "source": [
        "normal_distribution_pdf(100,150,10)"
      ],
      "metadata": {
        "colab": {
          "base_uri": "https://localhost:8080/"
        },
        "id": "VnxhwnLqAuyX",
        "outputId": "d613b9c7-65a7-455d-8a74-0297e65ab67c"
      },
      "execution_count": 2,
      "outputs": [
        {
          "output_type": "execute_result",
          "data": {
            "text/plain": [
              "1.486719514734298e-07"
            ]
          },
          "metadata": {},
          "execution_count": 2
        }
      ]
    },
    {
      "cell_type": "code",
      "source": [
        "normal_distribution_pdf(120,150,10)"
      ],
      "metadata": {
        "colab": {
          "base_uri": "https://localhost:8080/"
        },
        "id": "FTRt8BGdA2Wc",
        "outputId": "a0a6f4a2-b548-491b-e8d3-412c1fa916e2"
      },
      "execution_count": 3,
      "outputs": [
        {
          "output_type": "execute_result",
          "data": {
            "text/plain": [
              "0.00044318484119380076"
            ]
          },
          "metadata": {},
          "execution_count": 3
        }
      ]
    },
    {
      "cell_type": "code",
      "source": [
        "normal_distribution_pdf(140,150,10)"
      ],
      "metadata": {
        "colab": {
          "base_uri": "https://localhost:8080/"
        },
        "id": "pFpW2DTFA7LA",
        "outputId": "535c85fa-ebed-4886-bde7-0cbf142b9313"
      },
      "execution_count": 4,
      "outputs": [
        {
          "output_type": "execute_result",
          "data": {
            "text/plain": [
              "0.02419707245191434"
            ]
          },
          "metadata": {},
          "execution_count": 4
        }
      ]
    },
    {
      "cell_type": "code",
      "source": [
        "normal_distribution_pdf(200,150,10)"
      ],
      "metadata": {
        "colab": {
          "base_uri": "https://localhost:8080/"
        },
        "id": "idW3pTxEA_5i",
        "outputId": "eaa9406b-9715-48e8-b265-4ad622003b75"
      },
      "execution_count": 5,
      "outputs": [
        {
          "output_type": "execute_result",
          "data": {
            "text/plain": [
              "1.486719514734298e-07"
            ]
          },
          "metadata": {},
          "execution_count": 5
        }
      ]
    },
    {
      "cell_type": "code",
      "source": [],
      "metadata": {
        "id": "97L7poZmBEyY"
      },
      "execution_count": null,
      "outputs": []
    }
  ]
}