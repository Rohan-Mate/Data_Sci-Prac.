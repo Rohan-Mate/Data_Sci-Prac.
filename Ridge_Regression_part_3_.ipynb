{
  "nbformat": 4,
  "nbformat_minor": 0,
  "metadata": {
    "colab": {
      "provenance": []
    },
    "kernelspec": {
      "name": "python3",
      "display_name": "Python 3"
    },
    "language_info": {
      "name": "python"
    }
  },
  "cells": [
    {
      "cell_type": "markdown",
      "source": [
        "Ridge Regression (Gradient Descent)"
      ],
      "metadata": {
        "id": "Y3ToOgzubbm-"
      }
    },
    {
      "cell_type": "code",
      "execution_count": 1,
      "metadata": {
        "id": "CZVE24kbbZzh"
      },
      "outputs": [],
      "source": [
        "from sklearn.datasets import load_diabetes\n",
        "from sklearn.metrics import r2_score \n",
        "import numpy as np "
      ]
    },
    {
      "cell_type": "code",
      "source": [
        "X,y = load_diabetes(return_X_y = True)"
      ],
      "metadata": {
        "id": "-kbXfvxwbsix"
      },
      "execution_count": 3,
      "outputs": []
    },
    {
      "cell_type": "code",
      "source": [
        "from sklearn.model_selection import train_test_split"
      ],
      "metadata": {
        "id": "HaDCxJ16b0ak"
      },
      "execution_count": 4,
      "outputs": []
    },
    {
      "cell_type": "code",
      "source": [
        "X_train,X_test,y_train,y_test = train_test_split(X,y,test_size=0.2,random_state=4)"
      ],
      "metadata": {
        "id": "zmAiqX-GcBAj"
      },
      "execution_count": 5,
      "outputs": []
    },
    {
      "cell_type": "code",
      "source": [
        "from sklearn.linear_model import SGDRegressor"
      ],
      "metadata": {
        "id": "1tG8NjHJcOhz"
      },
      "execution_count": 6,
      "outputs": []
    },
    {
      "cell_type": "code",
      "source": [
        "reg = SGDRegressor(penalty='l2',max_iter=500,eta0=0.1,learning_rate='constant',alpha=0.001)"
      ],
      "metadata": {
        "id": "cvughMc_cVoU"
      },
      "execution_count": 9,
      "outputs": []
    },
    {
      "cell_type": "code",
      "source": [
        "reg.fit(X_train,y_train)\n",
        "\n",
        "y_pred = reg.predict(X_test)\n",
        "print('r2 score',r2_score(y_test,y_pred))\n",
        "print(reg.coef_)\n",
        "print(reg.intercept_)"
      ],
      "metadata": {
        "colab": {
          "base_uri": "https://localhost:8080/"
        },
        "id": "gh6-_PMxc2qK",
        "outputId": "5c306ef5-9c8e-4666-bfd4-be8c875981c8"
      },
      "execution_count": 10,
      "outputs": [
        {
          "output_type": "stream",
          "name": "stdout",
          "text": [
            "r2 score 0.35374623264419214\n",
            "[  53.11544925 -127.19589664  342.86457566  256.17372173    5.14788357\n",
            "  -45.54903625 -163.31836556  138.20413405  311.05342979  109.20315264]\n",
            "[132.88963724]\n"
          ]
        }
      ]
    },
    {
      "cell_type": "code",
      "source": [
        "from sklearn.linear_model import Ridge \n",
        "\n",
        "reg = Ridge(alpha=0.001,max_iter=500,solver='sparse_cg')"
      ],
      "metadata": {
        "id": "gW4SojIcdV5z"
      },
      "execution_count": 11,
      "outputs": []
    },
    {
      "cell_type": "code",
      "source": [
        "reg.fit(X_train,y_train)\n",
        "\n",
        "y_pred = reg.predict(X_test)\n",
        "print('r2_score', r2_score(y_test,y_pred))\n",
        "print(reg.coef_)\n",
        "print(reg.intercept_)"
      ],
      "metadata": {
        "colab": {
          "base_uri": "https://localhost:8080/"
        },
        "id": "6Ku-2fzqegMP",
        "outputId": "bcb3dc5f-99e4-416f-a651-c6dbc7f610ef"
      },
      "execution_count": 12,
      "outputs": [
        {
          "output_type": "stream",
          "name": "stdout",
          "text": [
            "r2_score 0.46250101619914563\n",
            "[  34.52192544 -290.84084076  482.40181344  368.0678662  -852.44873179\n",
            "  501.59160336  180.11115788  270.76333979  759.73534372   37.4913546 ]\n",
            "151.10198517439466\n"
          ]
        }
      ]
    },
    {
      "cell_type": "code",
      "source": [
        "class MeraRidgeGD:\n",
        "\n",
        "  def __init__(self,epochs,learning_rate,alpha):\n",
        "\n",
        "    self.learning_rate = learning_rate\n",
        "    self.epochs = epochs\n",
        "    self.alpha = alpha\n",
        "    self.coef_ = None\n",
        "    self.intercept_ = None \n",
        "\n",
        "  def fit(self,X_train,y_train):\n",
        "\n",
        "    self.coef_ = np.ones(X_train.shape[1])  \n",
        "    self.intercept_ = 0\n",
        "    thetha = np.insert(self.coef_,0,self.intercept_)\n",
        "\n",
        "    X_train = np.insert(X_train,0,1,axis=1)\n",
        "\n",
        "    for i in range(self.epochs):\n",
        "      thetha_der = np.dot(X_train.T,X_train).dot(thetha) - np.dot(X_train.T,y_train) + self.alpha * thetha\n",
        "      thetha = thetha - self.learning_rate * thetha_der\n",
        "\n",
        "    self.coef_ = thetha[1:]  \n",
        "    self.intercept_ = thetha[0]\n",
        "\n",
        "  def predict(self,X_test):\n",
        "\n",
        "    return np.dot(X_test,self.coef_) + self.intercept_  "
      ],
      "metadata": {
        "id": "3jB_mPIie8KT"
      },
      "execution_count": 13,
      "outputs": []
    },
    {
      "cell_type": "code",
      "source": [
        "reg = MeraRidgeGD(epochs=500,alpha=0.001,learning_rate=0.005)"
      ],
      "metadata": {
        "id": "boIqrrU6hnVU"
      },
      "execution_count": 14,
      "outputs": []
    },
    {
      "cell_type": "code",
      "source": [
        "reg.fit(X_train,y_train)\n",
        "\n",
        "y_pred = reg.predict(X_test)\n",
        "print(\"R2 score\",r2_score(y_test,y_pred))\n",
        "print(reg.coef_)\n",
        "print(reg.intercept_)"
      ],
      "metadata": {
        "colab": {
          "base_uri": "https://localhost:8080/"
        },
        "id": "jgENtzabhzKe",
        "outputId": "0907b9b0-00e9-4540-8015-9f6c0b7af2cd"
      },
      "execution_count": 15,
      "outputs": [
        {
          "output_type": "stream",
          "name": "stdout",
          "text": [
            "R2 score 0.4738018280260913\n",
            "[  46.65050914 -221.3750037   452.12080647  325.54248128  -29.09464178\n",
            "  -96.47517735 -190.90017011  146.32900372  400.80267299   95.09048094]\n",
            "150.86975316713472\n"
          ]
        }
      ]
    },
    {
      "cell_type": "code",
      "source": [],
      "metadata": {
        "id": "vpGr6YN6iMSD"
      },
      "execution_count": null,
      "outputs": []
    }
  ]
}