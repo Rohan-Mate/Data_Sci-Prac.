{
  "nbformat": 4,
  "nbformat_minor": 0,
  "metadata": {
    "colab": {
      "provenance": []
    },
    "kernelspec": {
      "name": "python3",
      "display_name": "Python 3"
    },
    "language_info": {
      "name": "python"
    }
  },
  "cells": [
    {
      "cell_type": "markdown",
      "source": [
        "Logistic Regression Session"
      ],
      "metadata": {
        "id": "oshnZOJQXxbr"
      }
    },
    {
      "cell_type": "code",
      "execution_count": 19,
      "metadata": {
        "id": "UCzFvMjgXd5F"
      },
      "outputs": [],
      "source": [
        "import numpy as np\n",
        "import pandas as pd\n",
        "from sklearn.linear_model import LogisticRegression\n",
        "import matplotlib.pyplot as plt"
      ]
    },
    {
      "cell_type": "code",
      "source": [
        "# Assume x and y are your features and target variabel\n",
        "df = pd.read_csv('https://raw.githubusercontent.com/datasciencedojo/datasets/master/titanic.csv').dropna()\n",
        "\n",
        "x = df[['Age','Fare']]\n",
        "y = df['Survived']"
      ],
      "metadata": {
        "id": "LcxWyoUcYE5i"
      },
      "execution_count": 20,
      "outputs": []
    },
    {
      "cell_type": "code",
      "source": [
        "x"
      ],
      "metadata": {
        "id": "sDviGCjAasJ5",
        "colab": {
          "base_uri": "https://localhost:8080/",
          "height": 423
        },
        "outputId": "5ec094e5-c778-4874-de0d-941214157486"
      },
      "execution_count": 21,
      "outputs": [
        {
          "output_type": "execute_result",
          "data": {
            "text/plain": [
              "      Age     Fare\n",
              "1    38.0  71.2833\n",
              "3    35.0  53.1000\n",
              "6    54.0  51.8625\n",
              "10    4.0  16.7000\n",
              "11   58.0  26.5500\n",
              "..    ...      ...\n",
              "871  47.0  52.5542\n",
              "872  33.0   5.0000\n",
              "879  56.0  83.1583\n",
              "887  19.0  30.0000\n",
              "889  26.0  30.0000\n",
              "\n",
              "[183 rows x 2 columns]"
            ],
            "text/html": [
              "\n",
              "  <div id=\"df-25f4fc2e-d856-4625-9bc7-9f8c4f46eccb\">\n",
              "    <div class=\"colab-df-container\">\n",
              "      <div>\n",
              "<style scoped>\n",
              "    .dataframe tbody tr th:only-of-type {\n",
              "        vertical-align: middle;\n",
              "    }\n",
              "\n",
              "    .dataframe tbody tr th {\n",
              "        vertical-align: top;\n",
              "    }\n",
              "\n",
              "    .dataframe thead th {\n",
              "        text-align: right;\n",
              "    }\n",
              "</style>\n",
              "<table border=\"1\" class=\"dataframe\">\n",
              "  <thead>\n",
              "    <tr style=\"text-align: right;\">\n",
              "      <th></th>\n",
              "      <th>Age</th>\n",
              "      <th>Fare</th>\n",
              "    </tr>\n",
              "  </thead>\n",
              "  <tbody>\n",
              "    <tr>\n",
              "      <th>1</th>\n",
              "      <td>38.0</td>\n",
              "      <td>71.2833</td>\n",
              "    </tr>\n",
              "    <tr>\n",
              "      <th>3</th>\n",
              "      <td>35.0</td>\n",
              "      <td>53.1000</td>\n",
              "    </tr>\n",
              "    <tr>\n",
              "      <th>6</th>\n",
              "      <td>54.0</td>\n",
              "      <td>51.8625</td>\n",
              "    </tr>\n",
              "    <tr>\n",
              "      <th>10</th>\n",
              "      <td>4.0</td>\n",
              "      <td>16.7000</td>\n",
              "    </tr>\n",
              "    <tr>\n",
              "      <th>11</th>\n",
              "      <td>58.0</td>\n",
              "      <td>26.5500</td>\n",
              "    </tr>\n",
              "    <tr>\n",
              "      <th>...</th>\n",
              "      <td>...</td>\n",
              "      <td>...</td>\n",
              "    </tr>\n",
              "    <tr>\n",
              "      <th>871</th>\n",
              "      <td>47.0</td>\n",
              "      <td>52.5542</td>\n",
              "    </tr>\n",
              "    <tr>\n",
              "      <th>872</th>\n",
              "      <td>33.0</td>\n",
              "      <td>5.0000</td>\n",
              "    </tr>\n",
              "    <tr>\n",
              "      <th>879</th>\n",
              "      <td>56.0</td>\n",
              "      <td>83.1583</td>\n",
              "    </tr>\n",
              "    <tr>\n",
              "      <th>887</th>\n",
              "      <td>19.0</td>\n",
              "      <td>30.0000</td>\n",
              "    </tr>\n",
              "    <tr>\n",
              "      <th>889</th>\n",
              "      <td>26.0</td>\n",
              "      <td>30.0000</td>\n",
              "    </tr>\n",
              "  </tbody>\n",
              "</table>\n",
              "<p>183 rows × 2 columns</p>\n",
              "</div>\n",
              "      <button class=\"colab-df-convert\" onclick=\"convertToInteractive('df-25f4fc2e-d856-4625-9bc7-9f8c4f46eccb')\"\n",
              "              title=\"Convert this dataframe to an interactive table.\"\n",
              "              style=\"display:none;\">\n",
              "        \n",
              "  <svg xmlns=\"http://www.w3.org/2000/svg\" height=\"24px\"viewBox=\"0 0 24 24\"\n",
              "       width=\"24px\">\n",
              "    <path d=\"M0 0h24v24H0V0z\" fill=\"none\"/>\n",
              "    <path d=\"M18.56 5.44l.94 2.06.94-2.06 2.06-.94-2.06-.94-.94-2.06-.94 2.06-2.06.94zm-11 1L8.5 8.5l.94-2.06 2.06-.94-2.06-.94L8.5 2.5l-.94 2.06-2.06.94zm10 10l.94 2.06.94-2.06 2.06-.94-2.06-.94-.94-2.06-.94 2.06-2.06.94z\"/><path d=\"M17.41 7.96l-1.37-1.37c-.4-.4-.92-.59-1.43-.59-.52 0-1.04.2-1.43.59L10.3 9.45l-7.72 7.72c-.78.78-.78 2.05 0 2.83L4 21.41c.39.39.9.59 1.41.59.51 0 1.02-.2 1.41-.59l7.78-7.78 2.81-2.81c.8-.78.8-2.07 0-2.86zM5.41 20L4 18.59l7.72-7.72 1.47 1.35L5.41 20z\"/>\n",
              "  </svg>\n",
              "      </button>\n",
              "      \n",
              "  <style>\n",
              "    .colab-df-container {\n",
              "      display:flex;\n",
              "      flex-wrap:wrap;\n",
              "      gap: 12px;\n",
              "    }\n",
              "\n",
              "    .colab-df-convert {\n",
              "      background-color: #E8F0FE;\n",
              "      border: none;\n",
              "      border-radius: 50%;\n",
              "      cursor: pointer;\n",
              "      display: none;\n",
              "      fill: #1967D2;\n",
              "      height: 32px;\n",
              "      padding: 0 0 0 0;\n",
              "      width: 32px;\n",
              "    }\n",
              "\n",
              "    .colab-df-convert:hover {\n",
              "      background-color: #E2EBFA;\n",
              "      box-shadow: 0px 1px 2px rgba(60, 64, 67, 0.3), 0px 1px 3px 1px rgba(60, 64, 67, 0.15);\n",
              "      fill: #174EA6;\n",
              "    }\n",
              "\n",
              "    [theme=dark] .colab-df-convert {\n",
              "      background-color: #3B4455;\n",
              "      fill: #D2E3FC;\n",
              "    }\n",
              "\n",
              "    [theme=dark] .colab-df-convert:hover {\n",
              "      background-color: #434B5C;\n",
              "      box-shadow: 0px 1px 3px 1px rgba(0, 0, 0, 0.15);\n",
              "      filter: drop-shadow(0px 1px 2px rgba(0, 0, 0, 0.3));\n",
              "      fill: #FFFFFF;\n",
              "    }\n",
              "  </style>\n",
              "\n",
              "      <script>\n",
              "        const buttonEl =\n",
              "          document.querySelector('#df-25f4fc2e-d856-4625-9bc7-9f8c4f46eccb button.colab-df-convert');\n",
              "        buttonEl.style.display =\n",
              "          google.colab.kernel.accessAllowed ? 'block' : 'none';\n",
              "\n",
              "        async function convertToInteractive(key) {\n",
              "          const element = document.querySelector('#df-25f4fc2e-d856-4625-9bc7-9f8c4f46eccb');\n",
              "          const dataTable =\n",
              "            await google.colab.kernel.invokeFunction('convertToInteractive',\n",
              "                                                     [key], {});\n",
              "          if (!dataTable) return;\n",
              "\n",
              "          const docLinkHtml = 'Like what you see? Visit the ' +\n",
              "            '<a target=\"_blank\" href=https://colab.research.google.com/notebooks/data_table.ipynb>data table notebook</a>'\n",
              "            + ' to learn more about interactive tables.';\n",
              "          element.innerHTML = '';\n",
              "          dataTable['output_type'] = 'display_data';\n",
              "          await google.colab.output.renderOutput(dataTable, element);\n",
              "          const docLink = document.createElement('div');\n",
              "          docLink.innerHTML = docLinkHtml;\n",
              "          element.appendChild(docLink);\n",
              "        }\n",
              "      </script>\n",
              "    </div>\n",
              "  </div>\n",
              "  "
            ]
          },
          "metadata": {},
          "execution_count": 21
        }
      ]
    },
    {
      "cell_type": "code",
      "source": [
        "y"
      ],
      "metadata": {
        "id": "jrLx5AwVaugU",
        "colab": {
          "base_uri": "https://localhost:8080/"
        },
        "outputId": "46992f9b-001b-4600-e3e5-cc7549b87531"
      },
      "execution_count": 22,
      "outputs": [
        {
          "output_type": "execute_result",
          "data": {
            "text/plain": [
              "1      1\n",
              "3      1\n",
              "6      0\n",
              "10     1\n",
              "11     1\n",
              "      ..\n",
              "871    1\n",
              "872    0\n",
              "879    1\n",
              "887    1\n",
              "889    1\n",
              "Name: Survived, Length: 183, dtype: int64"
            ]
          },
          "metadata": {},
          "execution_count": 22
        }
      ]
    },
    {
      "cell_type": "code",
      "source": [
        "# Initialize the logistic regression model\n",
        "model = LogisticRegression()\n",
        "\n",
        "# fit the model on the data\n",
        "model.fit(x,y)\n",
        "\n",
        "# Get predictions(probabilities)\n",
        "predicted = model.predict_proba(x)[:,1]\n",
        "\n",
        "# Getting logg odds values\n",
        "log_odds = np.log(predicted/(1-predicted))"
      ],
      "metadata": {
        "id": "9bPtr3m3Yf8w"
      },
      "execution_count": 23,
      "outputs": []
    },
    {
      "cell_type": "code",
      "source": [
        "predicted"
      ],
      "metadata": {
        "colab": {
          "base_uri": "https://localhost:8080/"
        },
        "id": "irKYMJiHgjdb",
        "outputId": "f82e6b94-825d-4210-d3c9-aecc096e8ba3"
      },
      "execution_count": 24,
      "outputs": [
        {
          "output_type": "execute_result",
          "data": {
            "text/plain": [
              "array([0.66335475, 0.6703938 , 0.50773786, 0.84023115, 0.44646954,\n",
              "       0.64121654, 0.70804948, 0.89473579, 0.57700518, 0.42125085,\n",
              "       0.61776964, 0.67868255, 0.70638509, 0.88060539, 0.5873405 ,\n",
              "       0.34462514, 0.76454496, 0.78683327, 0.56949915, 0.86978905,\n",
              "       0.6533626 , 0.53380742, 0.76265355, 0.65453347, 0.76983707,\n",
              "       0.63306682, 0.77321457, 0.42731983, 0.46830032, 0.51941521,\n",
              "       0.86506353, 0.84987698, 0.57112528, 0.56907217, 0.84621996,\n",
              "       0.60868758, 0.75009732, 0.71334404, 0.68030967, 0.69736696,\n",
              "       0.63236499, 0.65402613, 0.67864894, 0.41172835, 0.73586205,\n",
              "       0.55381192, 0.57796044, 0.57605346, 0.74060818, 0.63247891,\n",
              "       0.45486425, 0.80745502, 0.62461769, 0.90763096, 0.72648841,\n",
              "       0.91079278, 0.82888289, 0.71157625, 0.77270661, 0.89779457,\n",
              "       0.78770456, 0.70414721, 0.73373622, 0.62473813, 0.80280912,\n",
              "       0.55883641, 0.73419083, 0.72676347, 0.69670488, 0.57026735,\n",
              "       0.85434651, 0.87682547, 0.71815877, 0.76474687, 0.47857417,\n",
              "       0.76254946, 0.74541159, 0.83816805, 0.72099813, 0.79945479,\n",
              "       0.72122612, 0.71759124, 0.65277198, 0.70038885, 0.5472152 ,\n",
              "       0.84938108, 0.6327218 , 0.87299604, 0.5035264 , 0.68635685,\n",
              "       0.58936612, 0.38621876, 0.53488149, 0.55584864, 0.72593001,\n",
              "       0.77219346, 0.70299585, 0.4496708 , 0.47694043, 0.53480867,\n",
              "       0.81294172, 0.82070764, 0.82379314, 0.6374498 , 0.55129975,\n",
              "       0.63884961, 0.74141522, 0.60127698, 0.56123175, 0.76065628,\n",
              "       0.6787549 , 0.59797975, 0.83003579, 0.54819518, 0.66311186,\n",
              "       0.51620648, 0.63754477, 0.6409739 , 0.69115914, 0.65048617,\n",
              "       0.80566113, 0.48262611, 0.55240681, 0.55703184, 0.72011873,\n",
              "       0.85215315, 0.61288007, 0.42613439, 0.78729526, 0.27267258,\n",
              "       0.67337794, 0.76254946, 0.58563783, 0.47321904, 0.53530246,\n",
              "       0.54271252, 0.70000586, 0.92835359, 0.74853765, 0.88791621,\n",
              "       0.70430291, 0.61084021, 0.56829639, 0.88388466, 0.64560653,\n",
              "       0.58697968, 0.74750668, 0.56078243, 0.74851551, 0.78923917,\n",
              "       0.69395259, 0.72982317, 0.82821835, 0.93067725, 0.68574796,\n",
              "       0.88760894, 0.38747948, 0.78202127, 0.82801825, 0.71466736,\n",
              "       0.72099813, 0.56084755, 0.43894811, 0.74582626, 0.79648215,\n",
              "       0.6959018 , 0.60517009, 0.52541109, 0.86249447, 0.58658756,\n",
              "       0.68587543, 0.56782931, 0.6956736 , 0.66632496, 0.7904425 ,\n",
              "       0.50833508, 0.53424676, 0.69870617, 0.57005742, 0.64181318,\n",
              "       0.52214108, 0.76540716, 0.71794026])"
            ]
          },
          "metadata": {},
          "execution_count": 24
        }
      ]
    },
    {
      "cell_type": "code",
      "source": [
        "# create figure and axes for subplots\n",
        "fig, ax = plt.subplots(1,2, figsize = (12,5))\n",
        "\n",
        "# plot fare vs log_odds\n",
        "ax[0].scatter(x=x['Fare'].values, y = log_odds , color= 'blue')\n",
        "ax[0].set_xlabel('Fare')\n",
        "ax[0].set_ylabel('Log_odds')\n",
        "\n",
        "# plot age vs log_odds\n",
        "ax[1].scatter(x=x['Age'].values,y = log_odds,color='red')\n",
        "ax[1].set_xlabel('Age')\n",
        "ax[1].set_ylabel('log-odds')\n",
        "\n",
        "# show plots\n",
        "plt.tight_layout()\n",
        "plt.show()"
      ],
      "metadata": {
        "id": "qHuRKvI9bO7S",
        "colab": {
          "base_uri": "https://localhost:8080/",
          "height": 479
        },
        "outputId": "2b1cd63d-0dbb-4862-efba-cb640144924b"
      },
      "execution_count": 30,
      "outputs": [
        {
          "output_type": "display_data",
          "data": {
            "text/plain": [
              "<Figure size 1200x500 with 2 Axes>"
            ],
            "image/png": "[encoded data removed]"
          },
          "metadata": {}
        }
      ]
    },
    {
      "cell_type": "code",
      "source": [],
      "metadata": {
        "id": "LBxdDyIfc9Ss"
      },
      "execution_count": null,
      "outputs": []
    }
  ]
}